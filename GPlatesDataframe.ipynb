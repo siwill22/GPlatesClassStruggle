{
 "cells": [
  {
   "cell_type": "code",
   "execution_count": 1,
   "metadata": {},
   "outputs": [],
   "source": [
    "import pandas as pd\n",
    "import pygplates\n",
    "import numpy as np\n",
    "\n",
    "\n",
    "csfile = '/Applications/GPlates-2.0.0/SampleData/FeatureCollections/Coastlines/Matthews_etal_GPC_2016_Coastlines_Polyline.gpmlz'\n",
    "cs = pygplates.FeatureCollection(csfile)\n"
   ]
  },
  {
   "cell_type": "code",
   "execution_count": 2,
   "metadata": {},
   "outputs": [],
   "source": [
    "def from_gpml(filename):\n",
    "    # function to read in any gplates-compatible feature collection and \n",
    "    # place it into a pandas dataframe\n",
    "\n",
    "    feature_collection = pygplates.FeatureCollection(filename)\n",
    "\n",
    "    #gpdf = GPlatesDataFrame()\n",
    "\n",
    "    #DataFrameTemplate = ['lon','lat','geometry']\n",
    "    DataFrameTemplate = ['feature','geometry','Longitude','Latitude','Name','Description','FromAge','ToAge','PlateID','Type']\n",
    "\n",
    "\n",
    "    # Get attribute (other than coordinate) names from first feature\n",
    "    for feature in feature_collection:\n",
    "        for attribute in feature.get_shapefile_attributes():\n",
    "            DataFrameTemplate.append(attribute) \n",
    "        break\n",
    "\n",
    "    res = []\n",
    "    for feature in feature_collection:\n",
    "        for geometry in feature.get_geometries():\n",
    "            tmp = []\n",
    "            tmp.append(feature)\n",
    "            tmp.append(geometry)\n",
    "            tmp.append(geometry.get_centroid().to_lat_lon_point().get_longitude())\n",
    "            tmp.append(geometry.get_centroid().to_lat_lon_point().get_latitude())\n",
    "            tmp.append(feature.get_name())\n",
    "            tmp.append(feature.get_description())\n",
    "            tmp.append(feature.get_valid_time()[0])\n",
    "            tmp.append(feature.get_valid_time()[1])\n",
    "            tmp.append(feature.get_reconstruction_plate_id())\n",
    "            tmp.append(feature.get_feature_type())\n",
    "            for attribute in feature.get_shapefile_attributes():\n",
    "                tmp.append(feature.get_shapefile_attribute(attribute))\n",
    "            res.append(tmp)\n",
    "\n",
    "    df = pd.DataFrame(res,columns=DataFrameTemplate)\n",
    "\n",
    "    return df\n"
   ]
  },
  {
   "cell_type": "code",
   "execution_count": 3,
   "metadata": {},
   "outputs": [
    {
     "ename": "NameError",
     "evalue": "name 'GPlatesDataFrame' is not defined",
     "output_type": "error",
     "traceback": [
      "\u001b[0;31m---------------------------------------------------------------------------\u001b[0m",
      "\u001b[0;31mNameError\u001b[0m                                 Traceback (most recent call last)",
      "\u001b[0;32m<ipython-input-3-f811fd6479bd>\u001b[0m in \u001b[0;36m<module>\u001b[0;34m()\u001b[0m\n\u001b[1;32m     25\u001b[0m \u001b[0;34m\u001b[0m\u001b[0m\n\u001b[1;32m     26\u001b[0m \u001b[0;34m\u001b[0m\u001b[0m\n\u001b[0;32m---> 27\u001b[0;31m \u001b[0mk1\u001b[0m \u001b[0;34m=\u001b[0m \u001b[0mGPlatesDataFrame\u001b[0m\u001b[0;34m.\u001b[0m\u001b[0mfrom_gpml\u001b[0m\u001b[0;34m(\u001b[0m\u001b[0mcsfile\u001b[0m\u001b[0;34m)\u001b[0m\u001b[0;34m\u001b[0m\u001b[0m\n\u001b[0m\u001b[1;32m     28\u001b[0m \u001b[0;34m\u001b[0m\u001b[0m\n\u001b[1;32m     29\u001b[0m \u001b[0mk1\u001b[0m\u001b[0;34m.\u001b[0m\u001b[0mto_file\u001b[0m\u001b[0;34m(\u001b[0m\u001b[0;34m'dummy'\u001b[0m\u001b[0;34m)\u001b[0m\u001b[0;34m\u001b[0m\u001b[0m\n",
      "\u001b[0;31mNameError\u001b[0m: name 'GPlatesDataFrame' is not defined"
     ]
    }
   ],
   "source": [
    "class y(object):\n",
    "    def __init__(self, filename):\n",
    "        self.s = filename\n",
    "        \n",
    "    @classmethod\n",
    "    def from_gpml(cls, filename):\n",
    "        #x = cls('')\n",
    "        #x.s = ','.join(str(s) for s in alist)\n",
    "        df = from_gpml(filename)\n",
    "        return gg(df)\n",
    "    def __repr__(self):\n",
    "        return 'y(%r)' % self.s\n",
    "\n",
    "\n",
    "#class GPlatesDataFrame(y):\n",
    "#    def __repr__(self):\n",
    "#        return 'GPlatesDataFrame(%r)' % self.s.upper()\n",
    "\n",
    "\n",
    "class gg(pd.DataFrame):\n",
    "    def __init__(self, df):\n",
    "        super(gg, self).__init__()\n",
    "    def to_file(self, filename):\n",
    "        print 'do some stuff to write a file'\n",
    "    \n",
    "    \n",
    "k1 = GPlatesDataFrame.from_gpml(csfile)\n",
    "\n",
    "k1.to_file('dummy')\n",
    "\n",
    "k1\n"
   ]
  },
  {
   "cell_type": "code",
   "execution_count": 23,
   "metadata": {},
   "outputs": [
    {
     "name": "stdout",
     "output_type": "stream",
     "text": [
      "do some stuff to write a file\n"
     ]
    }
   ],
   "source": [
    "class GPlatesDataFrame(pd.DataFrame):\n",
    "\n",
    "    # Pandas inheritance implementation details...\n",
    "    _metadata = ['filename']\n",
    "    @property\n",
    "    def _constructor(self):\n",
    "        return GPlatesDataFrame\n",
    "    \n",
    "    \n",
    "    def __init__(self, *args, **kwargs):\n",
    "        # if filename is specified, store it. If not, set filename to None\n",
    "        filename = kwargs.pop('gplates_filename', None)\n",
    "        \n",
    "        # Construct pandas dataframe base/super object\n",
    "        super(GPlatesDataFrame, self).__init__(*args, **kwargs)\n",
    "        \n",
    "        # add the filename to the derived object\n",
    "        self.filename = filename\n",
    "      \n",
    "    @classmethod\n",
    "    def from_gpml(cls, filename):\n",
    "        # function to read in any gplates-compatible feature collection and \n",
    "        # place it into a pandas dataframe\n",
    "\n",
    "        feature_collection = pygplates.FeatureCollection(filename)\n",
    "        \n",
    "        #DataFrameTemplate = ['lon','lat','geometry']\n",
    "        DataFrameTemplate = ['feature','geometry','Longitude','Latitude','Name','Description','FromAge','ToAge','PlateID','Type']\n",
    "\n",
    "\n",
    "        # Get attribute (other than coordinate) names from first feature\n",
    "        for feature in feature_collection:\n",
    "            for attribute in feature.get_shapefile_attributes():\n",
    "                DataFrameTemplate.append(attribute) \n",
    "            break\n",
    "\n",
    "        res = []\n",
    "        for feature in feature_collection:\n",
    "            for geometry in feature.get_geometries():\n",
    "                tmp = []\n",
    "                tmp.append(feature)\n",
    "                tmp.append(geometry)\n",
    "                tmp.append(geometry.get_centroid().to_lat_lon_point().get_longitude())\n",
    "                tmp.append(geometry.get_centroid().to_lat_lon_point().get_latitude())\n",
    "                tmp.append(feature.get_name())\n",
    "                tmp.append(feature.get_description())\n",
    "                tmp.append(feature.get_valid_time()[0])\n",
    "                tmp.append(feature.get_valid_time()[1])\n",
    "                tmp.append(feature.get_reconstruction_plate_id())\n",
    "                tmp.append(feature.get_feature_type())\n",
    "                for attribute in feature.get_shapefile_attributes():\n",
    "                    tmp.append(feature.get_shapefile_attribute(attribute))\n",
    "                res.append(tmp)\n",
    "\n",
    "        return GPlatesDataFrame(res, columns=DataFrameTemplate, gplates_filename=filename)\n",
    "    \n",
    "    def to_file(self, filename):\n",
    "        print 'do some stuff to write a file'\n",
    "\n",
    "\n",
    "\n",
    "csfile = '/Applications/GPlates-2.0.0/SampleData/FeatureCollections/Coastlines/Matthews_etal_GPC_2016_Coastlines_Polyline.gpmlz'\n",
    "cs = pygplates.FeatureCollection(csfile)\n",
    "\n",
    "test = GPlatesDataFrame.from_gpml(csfile)\n",
    "\n",
    "type(test)\n",
    "\n",
    "test.to_file('blah')\n"
   ]
  },
  {
   "cell_type": "code",
   "execution_count": 26,
   "metadata": {},
   "outputs": [
    {
     "name": "stdout",
     "output_type": "stream",
     "text": [
      "<class '__main__.GPlatesDataFrame'>\n"
     ]
    },
    {
     "data": {
      "text/plain": [
       "'/Applications/GPlates-2.0.0/SampleData/FeatureCollections/Coastlines/Matthews_etal_GPC_2016_Coastlines_Polyline.gpmlz'"
      ]
     },
     "execution_count": 26,
     "metadata": {},
     "output_type": "execute_result"
    }
   ],
   "source": [
    "test2 = test[test.Name.str.contains('Africa')]\n",
    "\n",
    "print type(test2)\n",
    "\n",
    "test2.filename\n"
   ]
  },
  {
   "cell_type": "code",
   "execution_count": null,
   "metadata": {},
   "outputs": [],
   "source": []
  }
 ],
 "metadata": {
  "kernelspec": {
   "display_name": "Python [default]",
   "language": "python",
   "name": "python2"
  },
  "language_info": {
   "codemirror_mode": {
    "name": "ipython",
    "version": 2
   },
   "file_extension": ".py",
   "mimetype": "text/x-python",
   "name": "python",
   "nbconvert_exporter": "python",
   "pygments_lexer": "ipython2",
   "version": "2.7.11"
  }
 },
 "nbformat": 4,
 "nbformat_minor": 2
}
