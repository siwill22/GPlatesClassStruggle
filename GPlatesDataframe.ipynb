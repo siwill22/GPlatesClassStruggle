{
 "cells": [
  {
   "cell_type": "code",
   "execution_count": 1,
   "metadata": {},
   "outputs": [],
   "source": [
    "import pandas as pd\n",
    "import pygplates\n",
    "import numpy as np\n",
    "\n",
    "\n",
    "csfile = '/Applications/GPlates-2.0.0/SampleData/FeatureCollections/Coastlines/Matthews_etal_GPC_2016_Coastlines_Polyline.gpmlz'\n",
    "cs = pygplates.FeatureCollection(csfile)\n"
   ]
  },
  {
   "cell_type": "code",
   "execution_count": 2,
   "metadata": {},
   "outputs": [],
   "source": [
    "def from_gpml(filename):\n",
    "    # function to read in any gplates-compatible feature collection and \n",
    "    # place it into a pandas dataframe\n",
    "\n",
    "    feature_collection = pygplates.FeatureCollection(filename)\n",
    "\n",
    "    #gpdf = GPlatesDataFrame()\n",
    "\n",
    "    #DataFrameTemplate = ['lon','lat','geometry']\n",
    "    DataFrameTemplate = ['feature','geometry','Longitude','Latitude','Name','Description','FromAge','ToAge','PlateID','Type']\n",
    "\n",
    "\n",
    "    # Get attribute (other than coordinate) names from first feature\n",
    "    for feature in feature_collection:\n",
    "        for attribute in feature.get_shapefile_attributes():\n",
    "            DataFrameTemplate.append(attribute) \n",
    "        break\n",
    "\n",
    "    res = []\n",
    "    for feature in feature_collection:\n",
    "        for geometry in feature.get_geometries():\n",
    "            tmp = []\n",
    "            tmp.append(feature)\n",
    "            tmp.append(geometry)\n",
    "            tmp.append(geometry.get_centroid().to_lat_lon_point().get_longitude())\n",
    "            tmp.append(geometry.get_centroid().to_lat_lon_point().get_latitude())\n",
    "            tmp.append(feature.get_name())\n",
    "            tmp.append(feature.get_description())\n",
    "            tmp.append(feature.get_valid_time()[0])\n",
    "            tmp.append(feature.get_valid_time()[1])\n",
    "            tmp.append(feature.get_reconstruction_plate_id())\n",
    "            tmp.append(feature.get_feature_type())\n",
    "            for attribute in feature.get_shapefile_attributes():\n",
    "                tmp.append(feature.get_shapefile_attribute(attribute))\n",
    "            res.append(tmp)\n",
    "\n",
    "    df = pd.DataFrame(res,columns=DataFrameTemplate)\n",
    "\n",
    "    return df\n"
   ]
  },
  {
   "cell_type": "code",
   "execution_count": 3,
   "metadata": {},
   "outputs": [
    {
     "name": "stdout",
     "output_type": "stream",
     "text": [
      "do some stuff to write a file\n"
     ]
    }
   ],
   "source": [
    "class GPlatesDataFrame(pd.DataFrame):\n",
    "\n",
    "    # Pandas inheritance implementation details...\n",
    "    _metadata = ['filename']\n",
    "    @property\n",
    "    def _constructor(self):\n",
    "        return GPlatesDataFrame\n",
    "    \n",
    "    \n",
    "    def __init__(self, *args, **kwargs):\n",
    "        # if filename is specified, store it. If not, set filename to None\n",
    "        filename = kwargs.pop('gplates_filename', None)\n",
    "        \n",
    "        # Construct pandas dataframe base/super object\n",
    "        super(GPlatesDataFrame, self).__init__(*args, **kwargs)\n",
    "        \n",
    "        # add the filename to the derived object\n",
    "        self.filename = filename\n",
    "      \n",
    "    @classmethod\n",
    "    def from_gpml(cls, filename):\n",
    "        # function to read in any gplates-compatible feature collection and \n",
    "        # place it into a pandas dataframe\n",
    "\n",
    "        feature_collection = pygplates.FeatureCollection(filename)\n",
    "        \n",
    "        #DataFrameTemplate = ['lon','lat','geometry']\n",
    "        DataFrameTemplate = ['feature','geometry','Longitude','Latitude','Name','Description','FromAge','ToAge','PlateID','Type']\n",
    "\n",
    "\n",
    "        # Get attribute (other than coordinate) names from first feature\n",
    "        for feature in feature_collection:\n",
    "            for attribute in feature.get_shapefile_attributes():\n",
    "                DataFrameTemplate.append(attribute) \n",
    "            break\n",
    "\n",
    "        res = []\n",
    "        for feature in feature_collection:\n",
    "            for geometry in feature.get_geometries():\n",
    "                tmp = []\n",
    "                tmp.append(feature)\n",
    "                tmp.append(geometry)\n",
    "                tmp.append(geometry.get_centroid().to_lat_lon_point().get_longitude())\n",
    "                tmp.append(geometry.get_centroid().to_lat_lon_point().get_latitude())\n",
    "                tmp.append(feature.get_name())\n",
    "                tmp.append(feature.get_description())\n",
    "                tmp.append(feature.get_valid_time()[0])\n",
    "                tmp.append(feature.get_valid_time()[1])\n",
    "                tmp.append(feature.get_reconstruction_plate_id())\n",
    "                tmp.append(feature.get_feature_type())\n",
    "                for attribute in feature.get_shapefile_attributes():\n",
    "                    tmp.append(feature.get_shapefile_attribute(attribute))\n",
    "                res.append(tmp)\n",
    "\n",
    "        return GPlatesDataFrame(res, columns=DataFrameTemplate, gplates_filename=filename)\n",
    "    \n",
    "    def to_file(self, filename):\n",
    "        print 'do some stuff to write a file'\n",
    "\n",
    "\n",
    "\n",
    "csfile = '/Applications/GPlates-2.0.0/SampleData/FeatureCollections/Coastlines/Matthews_etal_GPC_2016_Coastlines_Polyline.gpmlz'\n",
    "cs = pygplates.FeatureCollection(csfile)\n",
    "\n",
    "test = GPlatesDataFrame.from_gpml(csfile)\n",
    "\n",
    "type(test)\n",
    "\n",
    "test.to_file('blah')\n"
   ]
  },
  {
   "cell_type": "code",
   "execution_count": 4,
   "metadata": {},
   "outputs": [
    {
     "name": "stdout",
     "output_type": "stream",
     "text": [
      "<class '__main__.GPlatesDataFrame'>\n"
     ]
    },
    {
     "data": {
      "text/plain": [
       "'/Applications/GPlates-2.0.0/SampleData/FeatureCollections/Coastlines/Matthews_etal_GPC_2016_Coastlines_Polyline.gpmlz'"
      ]
     },
     "execution_count": 4,
     "metadata": {},
     "output_type": "execute_result"
    }
   ],
   "source": [
    "test2 = test[test.Name.str.contains('Africa')]\n",
    "\n",
    "print type(test2)\n",
    "\n",
    "test2.filename\n"
   ]
  },
  {
   "cell_type": "code",
   "execution_count": null,
   "metadata": {},
   "outputs": [],
   "source": []
  }
 ],
 "metadata": {
  "kernelspec": {
   "display_name": "Python 2",
   "language": "python",
   "name": "python2"
  },
  "language_info": {
   "codemirror_mode": {
    "name": "ipython",
    "version": 2
   },
   "file_extension": ".py",
   "mimetype": "text/x-python",
   "name": "python",
   "nbconvert_exporter": "python",
   "pygments_lexer": "ipython2",
   "version": "2.7.15"
  }
 },
 "nbformat": 4,
 "nbformat_minor": 2
}
