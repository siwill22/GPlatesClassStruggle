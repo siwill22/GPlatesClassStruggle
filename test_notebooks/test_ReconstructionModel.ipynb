{
 "cells": [
  {
   "cell_type": "code",
   "execution_count": 3,
   "metadata": {},
   "outputs": [
    {
     "name": "stdout",
     "output_type": "stream",
     "text": [
      "The autoreload extension is already loaded. To reload it, use:\n",
      "  %reload_ext autoreload\n",
      "2.1.0.19\n"
     ]
    }
   ],
   "source": [
    "import pygplates\n",
    "import pandas as pd\n",
    "import matplotlib.pyplot as plt\n",
    "\n",
    "import sys\n",
    "sys.path.append('/Users/simon/GIT/GPlatesReconstructionModel/')\n",
    "\n",
    "%matplotlib inline\n",
    "%load_ext autoreload\n",
    "%autoreload 2\n",
    "\n",
    "print pygplates.__version__\n",
    "\n",
    "from gprm import ReconstructionModel\n"
   ]
  },
  {
   "cell_type": "code",
   "execution_count": 4,
   "metadata": {},
   "outputs": [],
   "source": [
    "# Build an object describing a reconstruction model\n",
    "\n",
    "M2016 = ReconstructionModel('Matthews++2016')\n",
    "M2016.add_rotation_model('/Applications/GPlates-2.0.0/SampleData/FeatureCollections/Rotations/Matthews_etal_GPC_2016_410-0Ma_GK07.rot')\n",
    "M2016.add_static_polygons('/Applications/GPlates-2.0.0/SampleData/FeatureCollections/StaticPolygons/Muller_etal_AREPS_2016_StaticPolygons.gpmlz')\n",
    "M2016.add_dynamic_polygons('/Applications/GPlates-2.0.0/SampleData/FeatureCollections/DynamicPolygons/Matthews_etal_GPC_2016_MesozoicCenozoic_PlateTopologies.gpmlz')\n",
    "M2016.add_dynamic_polygons('/Applications/GPlates-2.0.0/SampleData/FeatureCollections/DynamicPolygons/Matthews_etal_GPC_2016_Paleozoic_PlateTopologies.gpmlz')\n",
    "M2016.add_dynamic_polygons('/Applications/GPlates-2.0.0/SampleData/FeatureCollections/DynamicPolygons/Matthews_etal_GPC_2016_TopologyBuildingBlocks.gpmlz')\n"
   ]
  },
  {
   "cell_type": "code",
   "execution_count": 5,
   "metadata": {},
   "outputs": [
    {
     "name": "stdout",
     "output_type": "stream",
     "text": [
      "Seton2012\n"
     ]
    }
   ],
   "source": [
    "# Testing the case where a reconstruction model is accessed directly from the GPlates web service\n",
    "# TODO add a method to get a list of all available models\n",
    "\n",
    "S2012 = ReconstructionModel('Seton2012')\n",
    "\n",
    "S2012.from_web_service(model='SETON2012')    #for testing, url='http://127.0.0.1:8000')\n",
    "\n",
    "print S2012.name\n"
   ]
  },
  {
   "cell_type": "code",
   "execution_count": 6,
   "metadata": {},
   "outputs": [
    {
     "name": "stdout",
     "output_type": "stream",
     "text": [
      "[701, 801, 224, 802, 301, 102, 304, 501, 496, 406, 409, 901, 317, 201, 804, 608, 609, 101, 903, 902, 918]\n",
      "[701, 802, 102, 501, 406, 918, 409, 901, 317, 201, 804, 801, 604, 608, 609, 738, 301, 307, 308, 304, 224, 904, 2035, 922, 101, 902, 903]\n"
     ]
    }
   ],
   "source": [
    "# Two different ways of getting a snapshot of the plate polygons\n",
    "# 1. return as an object\n",
    "S2012_50Ma = S2012.plate_snapshot(50.)\n",
    "print S2012_50Ma.plate_ids\n",
    "\n",
    "# 2. print directly\n",
    "print M2016.plate_snapshot(50.).plate_ids\n",
    "\n"
   ]
  },
  {
   "cell_type": "code",
   "execution_count": null,
   "metadata": {},
   "outputs": [],
   "source": []
  }
 ],
 "metadata": {
  "kernelspec": {
   "display_name": "Python [conda env:oldmate]",
   "language": "python",
   "name": "conda-env-oldmate-py"
  },
  "language_info": {
   "codemirror_mode": {
    "name": "ipython",
    "version": 2
   },
   "file_extension": ".py",
   "mimetype": "text/x-python",
   "name": "python",
   "nbconvert_exporter": "python",
   "pygments_lexer": "ipython2",
   "version": "2.7.15"
  }
 },
 "nbformat": 4,
 "nbformat_minor": 4
}
